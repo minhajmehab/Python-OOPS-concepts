{
 "cells": [
  {
   "cell_type": "code",
   "execution_count": 31,
   "id": "b7411afa",
   "metadata": {},
   "outputs": [],
   "source": [
    "class Course:\n",
    "    def __init__(self,course_name,course_price):\n",
    "        self.course_name=course_name\n",
    "        self.__course_price=course_price\n",
    "        \n",
    "    #Giving access to view private variable course_price\n",
    "    @property\n",
    "    def view_course_price(self):\n",
    "        return self.__course_price\n",
    "    \n",
    "    #Giving access to change the value of private variable course_price\n",
    "    @view_course_price.setter\n",
    "    def course_price_set(self,price):\n",
    "        self.__course_price=price \n",
    "        \n",
    "    #Giving access to delete private variable course_price\n",
    "    @view_course_price.deleter\n",
    "    def course_price_delete(self):\n",
    "        del self.__course_price\n",
    "    \n",
    "    "
   ]
  },
  {
   "cell_type": "code",
   "execution_count": 22,
   "id": "0853a5d4",
   "metadata": {},
   "outputs": [],
   "source": [
    "c1=Course('data science',4500)"
   ]
  },
  {
   "cell_type": "code",
   "execution_count": 23,
   "id": "da2e83ed",
   "metadata": {},
   "outputs": [
    {
     "data": {
      "text/plain": [
       "'data science'"
      ]
     },
     "execution_count": 23,
     "metadata": {},
     "output_type": "execute_result"
    }
   ],
   "source": [
    "c1.course_name"
   ]
  },
  {
   "cell_type": "code",
   "execution_count": 24,
   "id": "752a1de1",
   "metadata": {},
   "outputs": [
    {
     "data": {
      "text/plain": [
       "4500"
      ]
     },
     "execution_count": 24,
     "metadata": {},
     "output_type": "execute_result"
    }
   ],
   "source": [
    "#view course price\n",
    "c1.view_course_price"
   ]
  },
  {
   "cell_type": "code",
   "execution_count": 25,
   "id": "e535e536",
   "metadata": {},
   "outputs": [],
   "source": [
    "#changing course price\n",
    "c1.course_price_set=5000"
   ]
  },
  {
   "cell_type": "code",
   "execution_count": 26,
   "id": "819e6629",
   "metadata": {},
   "outputs": [
    {
     "data": {
      "text/plain": [
       "5000"
      ]
     },
     "execution_count": 26,
     "metadata": {},
     "output_type": "execute_result"
    }
   ],
   "source": [
    "c1.view_course_price"
   ]
  },
  {
   "cell_type": "code",
   "execution_count": 29,
   "id": "b212b3c7",
   "metadata": {},
   "outputs": [],
   "source": [
    "#deleting course price\n",
    "del c1.course_price_delete"
   ]
  },
  {
   "cell_type": "code",
   "execution_count": 30,
   "id": "2a3d8f53",
   "metadata": {},
   "outputs": [
    {
     "ename": "AttributeError",
     "evalue": "'Course' object has no attribute '_Course__course_price'",
     "output_type": "error",
     "traceback": [
      "\u001b[1;31m---------------------------------------------------------------------------\u001b[0m",
      "\u001b[1;31mAttributeError\u001b[0m                            Traceback (most recent call last)",
      "\u001b[1;32m~\\AppData\\Local\\Temp\\ipykernel_9664\\3342478142.py\u001b[0m in \u001b[0;36m<module>\u001b[1;34m\u001b[0m\n\u001b[1;32m----> 1\u001b[1;33m \u001b[0mc1\u001b[0m\u001b[1;33m.\u001b[0m\u001b[0mview_course_price\u001b[0m\u001b[1;33m\u001b[0m\u001b[1;33m\u001b[0m\u001b[0m\n\u001b[0m",
      "\u001b[1;32m~\\AppData\\Local\\Temp\\ipykernel_9664\\726515832.py\u001b[0m in \u001b[0;36mview_course_price\u001b[1;34m(self)\u001b[0m\n\u001b[0;32m      7\u001b[0m     \u001b[1;33m@\u001b[0m\u001b[0mproperty\u001b[0m\u001b[1;33m\u001b[0m\u001b[1;33m\u001b[0m\u001b[0m\n\u001b[0;32m      8\u001b[0m     \u001b[1;32mdef\u001b[0m \u001b[0mview_course_price\u001b[0m\u001b[1;33m(\u001b[0m\u001b[0mself\u001b[0m\u001b[1;33m)\u001b[0m\u001b[1;33m:\u001b[0m\u001b[1;33m\u001b[0m\u001b[1;33m\u001b[0m\u001b[0m\n\u001b[1;32m----> 9\u001b[1;33m         \u001b[1;32mreturn\u001b[0m \u001b[0mself\u001b[0m\u001b[1;33m.\u001b[0m\u001b[0m__course_price\u001b[0m\u001b[1;33m\u001b[0m\u001b[1;33m\u001b[0m\u001b[0m\n\u001b[0m\u001b[0;32m     10\u001b[0m \u001b[1;33m\u001b[0m\u001b[0m\n\u001b[0;32m     11\u001b[0m     \u001b[1;31m#Giving access to change the value of private variable course_price\u001b[0m\u001b[1;33m\u001b[0m\u001b[1;33m\u001b[0m\u001b[0m\n",
      "\u001b[1;31mAttributeError\u001b[0m: 'Course' object has no attribute '_Course__course_price'"
     ]
    }
   ],
   "source": [
    "c1.view_course_price"
   ]
  },
  {
   "cell_type": "code",
   "execution_count": null,
   "id": "fcc0eda9",
   "metadata": {},
   "outputs": [],
   "source": []
  }
 ],
 "metadata": {
  "kernelspec": {
   "display_name": "Python 3 (ipykernel)",
   "language": "python",
   "name": "python3"
  },
  "language_info": {
   "codemirror_mode": {
    "name": "ipython",
    "version": 3
   },
   "file_extension": ".py",
   "mimetype": "text/x-python",
   "name": "python",
   "nbconvert_exporter": "python",
   "pygments_lexer": "ipython3",
   "version": "3.9.13"
  }
 },
 "nbformat": 4,
 "nbformat_minor": 5
}
