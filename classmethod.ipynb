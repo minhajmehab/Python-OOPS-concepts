{
 "cells": [
  {
   "cell_type": "code",
   "execution_count": 24,
   "id": "f5c42a8c",
   "metadata": {},
   "outputs": [],
   "source": [
    "class Car:\n",
    "    base_price=120000\n",
    "    def __init__(self,fuel_type,model,year,speed):\n",
    "        self.fuel_type=fuel_type\n",
    "        self.model=model\n",
    "        self.year=year\n",
    "        self.speed=speed\n",
    "    def what_the_base_price(self):\n",
    "        print('The base price is {}'.format(self.base_price))\n",
    "    @classmethod\n",
    "    def change_base_price(cls,inflation_rate):\n",
    "        cls.base_price=cls.base_price+cls.base_price*inflation_rate\n",
    "        \n",
    "    "
   ]
  },
  {
   "cell_type": "code",
   "execution_count": 25,
   "id": "04224226",
   "metadata": {},
   "outputs": [],
   "source": [
    "car1=Car('diesel','swift',2009,200)"
   ]
  },
  {
   "cell_type": "code",
   "execution_count": 26,
   "id": "a4ba0a78",
   "metadata": {},
   "outputs": [
    {
     "data": {
      "text/plain": [
       "'diesel'"
      ]
     },
     "execution_count": 26,
     "metadata": {},
     "output_type": "execute_result"
    }
   ],
   "source": [
    "car1.fuel_type"
   ]
  },
  {
   "cell_type": "code",
   "execution_count": 27,
   "id": "6c6deb84",
   "metadata": {},
   "outputs": [
    {
     "data": {
      "text/plain": [
       "'swift'"
      ]
     },
     "execution_count": 27,
     "metadata": {},
     "output_type": "execute_result"
    }
   ],
   "source": [
    "car1.model"
   ]
  },
  {
   "cell_type": "code",
   "execution_count": 28,
   "id": "61720edc",
   "metadata": {},
   "outputs": [
    {
     "data": {
      "text/plain": [
       "200"
      ]
     },
     "execution_count": 28,
     "metadata": {},
     "output_type": "execute_result"
    }
   ],
   "source": [
    "car1.speed"
   ]
  },
  {
   "cell_type": "code",
   "execution_count": 29,
   "id": "eb04edf6",
   "metadata": {},
   "outputs": [
    {
     "name": "stdout",
     "output_type": "stream",
     "text": [
      "The base price is 120000\n"
     ]
    }
   ],
   "source": [
    "car1.what_the_base_price()"
   ]
  },
  {
   "cell_type": "code",
   "execution_count": 30,
   "id": "8115ba9c",
   "metadata": {},
   "outputs": [],
   "source": [
    "#suppose in next year we need to change the base price. we can use class Car to change base price other than using objects to change the base price(good way).\n",
    "#so we use class method to change the base price using Class"
   ]
  },
  {
   "cell_type": "code",
   "execution_count": 31,
   "id": "df4ffc7d",
   "metadata": {},
   "outputs": [
    {
     "data": {
      "text/plain": [
       "120000"
      ]
     },
     "execution_count": 31,
     "metadata": {},
     "output_type": "execute_result"
    }
   ],
   "source": [
    "Car.base_price"
   ]
  },
  {
   "cell_type": "code",
   "execution_count": 32,
   "id": "9f5b0c8e",
   "metadata": {},
   "outputs": [],
   "source": [
    "Car.change_base_price(0.10)"
   ]
  },
  {
   "cell_type": "code",
   "execution_count": 33,
   "id": "ee80566e",
   "metadata": {},
   "outputs": [
    {
     "data": {
      "text/plain": [
       "132000.0"
      ]
     },
     "execution_count": 33,
     "metadata": {},
     "output_type": "execute_result"
    }
   ],
   "source": [
    "Car.base_price"
   ]
  },
  {
   "cell_type": "code",
   "execution_count": 34,
   "id": "51fa94e9",
   "metadata": {},
   "outputs": [],
   "source": [
    "#add an external function into class"
   ]
  },
  {
   "cell_type": "code",
   "execution_count": 35,
   "id": "a46c6b1e",
   "metadata": {},
   "outputs": [],
   "source": [
    "def owner_details(cls,owner_name):\n",
    "    print('owner name is:  ',owner_name)"
   ]
  },
  {
   "cell_type": "code",
   "execution_count": 36,
   "id": "53e17f6c",
   "metadata": {},
   "outputs": [],
   "source": [
    "Car.owner_details=classmethod(owner_details)"
   ]
  },
  {
   "cell_type": "code",
   "execution_count": 37,
   "id": "4c16e74d",
   "metadata": {},
   "outputs": [
    {
     "name": "stdout",
     "output_type": "stream",
     "text": [
      "owner name is:   minhaj\n"
     ]
    }
   ],
   "source": [
    "Car.owner_details('minhaj')"
   ]
  },
  {
   "cell_type": "code",
   "execution_count": 38,
   "id": "042f43b2",
   "metadata": {},
   "outputs": [],
   "source": [
    "#deleting a function or variable of a class"
   ]
  },
  {
   "cell_type": "code",
   "execution_count": 39,
   "id": "4c07210b",
   "metadata": {},
   "outputs": [],
   "source": [
    "del Car.owner_details"
   ]
  },
  {
   "cell_type": "code",
   "execution_count": 40,
   "id": "7ba3cd8a",
   "metadata": {},
   "outputs": [],
   "source": [
    "delattr(Car,'what_the_base_price')"
   ]
  },
  {
   "cell_type": "code",
   "execution_count": 41,
   "id": "f8e34e60",
   "metadata": {},
   "outputs": [],
   "source": [
    "delattr(Car,'base_price')"
   ]
  },
  {
   "cell_type": "code",
   "execution_count": null,
   "id": "84fffb8a",
   "metadata": {},
   "outputs": [],
   "source": []
  },
  {
   "cell_type": "code",
   "execution_count": null,
   "id": "3109ea20",
   "metadata": {},
   "outputs": [],
   "source": []
  }
 ],
 "metadata": {
  "kernelspec": {
   "display_name": "Python 3 (ipykernel)",
   "language": "python",
   "name": "python3"
  },
  "language_info": {
   "codemirror_mode": {
    "name": "ipython",
    "version": 3
   },
   "file_extension": ".py",
   "mimetype": "text/x-python",
   "name": "python",
   "nbconvert_exporter": "python",
   "pygments_lexer": "ipython3",
   "version": "3.9.13"
  }
 },
 "nbformat": 4,
 "nbformat_minor": 5
}
