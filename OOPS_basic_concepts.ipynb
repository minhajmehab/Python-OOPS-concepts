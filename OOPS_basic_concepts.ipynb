{
 "cells": [
  {
   "cell_type": "code",
   "execution_count": 1,
   "id": "63c52d8d",
   "metadata": {},
   "outputs": [],
   "source": [
    "a=1"
   ]
  },
  {
   "cell_type": "code",
   "execution_count": 2,
   "id": "75a56e17",
   "metadata": {},
   "outputs": [
    {
     "name": "stdout",
     "output_type": "stream",
     "text": [
      "<class 'int'>\n"
     ]
    }
   ],
   "source": [
    "print(type(a))"
   ]
  },
  {
   "cell_type": "code",
   "execution_count": 3,
   "id": "62162797",
   "metadata": {},
   "outputs": [
    {
     "name": "stdout",
     "output_type": "stream",
     "text": [
      "<class 'str'>\n"
     ]
    }
   ],
   "source": [
    "print(type('hello world'))"
   ]
  },
  {
   "cell_type": "code",
   "execution_count": 24,
   "id": "67f756a7",
   "metadata": {},
   "outputs": [],
   "source": [
    "class course1:\n",
    "    def dsm_course(self):\n",
    "        print(\"welcome to data science masters course\")"
   ]
  },
  {
   "cell_type": "code",
   "execution_count": 25,
   "id": "d6bda1f3",
   "metadata": {},
   "outputs": [],
   "source": [
    "x=course1()"
   ]
  },
  {
   "cell_type": "code",
   "execution_count": 27,
   "id": "128d347f",
   "metadata": {},
   "outputs": [
    {
     "name": "stdout",
     "output_type": "stream",
     "text": [
      "welcome to data science masters course\n"
     ]
    }
   ],
   "source": [
    "x.dsm_course()"
   ]
  },
  {
   "cell_type": "code",
   "execution_count": 28,
   "id": "800fd8a6",
   "metadata": {},
   "outputs": [],
   "source": [
    "y=course1()"
   ]
  },
  {
   "cell_type": "code",
   "execution_count": 29,
   "id": "d8d23843",
   "metadata": {},
   "outputs": [
    {
     "name": "stdout",
     "output_type": "stream",
     "text": [
      "welcome to data science masters course\n"
     ]
    }
   ],
   "source": [
    "y.dsm_course()"
   ]
  },
  {
   "cell_type": "code",
   "execution_count": 11,
   "id": "6afaf250",
   "metadata": {},
   "outputs": [],
   "source": [
    "class course:\n",
    "    def __init__(self,name,phone_number,email_id):\n",
    "        self.name=name\n",
    "        self.phone_number=phone_number\n",
    "        self.email_id=email_id\n",
    "        "
   ]
  },
  {
   "cell_type": "code",
   "execution_count": 12,
   "id": "246318dd",
   "metadata": {},
   "outputs": [],
   "source": [
    "student1=course('minhaj',5656651,'minhajmehaboob3@gmail.com')"
   ]
  },
  {
   "cell_type": "code",
   "execution_count": 13,
   "id": "732785de",
   "metadata": {},
   "outputs": [
    {
     "data": {
      "text/plain": [
       "'minhaj'"
      ]
     },
     "execution_count": 13,
     "metadata": {},
     "output_type": "execute_result"
    }
   ],
   "source": [
    "student1.name"
   ]
  },
  {
   "cell_type": "code",
   "execution_count": 14,
   "id": "0cc08539",
   "metadata": {},
   "outputs": [
    {
     "data": {
      "text/plain": [
       "'minhajmehaboob3@gmail.com'"
      ]
     },
     "execution_count": 14,
     "metadata": {},
     "output_type": "execute_result"
    }
   ],
   "source": [
    "student1.email_id"
   ]
  },
  {
   "cell_type": "code",
   "execution_count": 15,
   "id": "559f464d",
   "metadata": {},
   "outputs": [
    {
     "data": {
      "text/plain": [
       "5656651"
      ]
     },
     "execution_count": 15,
     "metadata": {},
     "output_type": "execute_result"
    }
   ],
   "source": [
    "student1.phone_number"
   ]
  },
  {
   "cell_type": "code",
   "execution_count": 16,
   "id": "6da7bbf6",
   "metadata": {},
   "outputs": [],
   "source": [
    "student1.phone_number=6563953"
   ]
  },
  {
   "cell_type": "code",
   "execution_count": 20,
   "id": "4bb96a65",
   "metadata": {},
   "outputs": [
    {
     "data": {
      "text/plain": [
       "6563953"
      ]
     },
     "execution_count": 20,
     "metadata": {},
     "output_type": "execute_result"
    }
   ],
   "source": [
    "student1.phone_number"
   ]
  },
  {
   "cell_type": "code",
   "execution_count": 31,
   "id": "a233b1d3",
   "metadata": {},
   "outputs": [],
   "source": [
    "student2=course('muhammed',9847532,'muhammed123@gmail.com')"
   ]
  },
  {
   "cell_type": "code",
   "execution_count": 32,
   "id": "575e1813",
   "metadata": {},
   "outputs": [
    {
     "data": {
      "text/plain": [
       "'muhammed'"
      ]
     },
     "execution_count": 32,
     "metadata": {},
     "output_type": "execute_result"
    }
   ],
   "source": [
    "student2.name"
   ]
  },
  {
   "cell_type": "code",
   "execution_count": 33,
   "id": "74e95de1",
   "metadata": {},
   "outputs": [
    {
     "data": {
      "text/plain": [
       "9847532"
      ]
     },
     "execution_count": 33,
     "metadata": {},
     "output_type": "execute_result"
    }
   ],
   "source": [
    "student2.phone_number"
   ]
  },
  {
   "cell_type": "code",
   "execution_count": 49,
   "id": "3b1712ae",
   "metadata": {},
   "outputs": [],
   "source": [
    "class course2():\n",
    "    def __init__(self1,name,phone_number,student_id):\n",
    "        self1.name=name\n",
    "        self1.phone_number=phone_number\n",
    "        self1.student_id=student_id\n",
    "    def return_student_details(self1):\n",
    "        return self1.name,self1.phone_number,self1.student_id"
   ]
  },
  {
   "cell_type": "code",
   "execution_count": 50,
   "id": "60948189",
   "metadata": {},
   "outputs": [],
   "source": [
    "stud1=course2('minhaj',1546565,101)"
   ]
  },
  {
   "cell_type": "code",
   "execution_count": 51,
   "id": "33ab55e8",
   "metadata": {},
   "outputs": [
    {
     "data": {
      "text/plain": [
       "('minhaj', 1546565, 101)"
      ]
     },
     "execution_count": 51,
     "metadata": {},
     "output_type": "execute_result"
    }
   ],
   "source": [
    "stud1.return_student_details()"
   ]
  },
  {
   "cell_type": "code",
   "execution_count": 52,
   "id": "b4a5d7c3",
   "metadata": {},
   "outputs": [
    {
     "data": {
      "text/plain": [
       "'minhaj'"
      ]
     },
     "execution_count": 52,
     "metadata": {},
     "output_type": "execute_result"
    }
   ],
   "source": [
    "stud1.name"
   ]
  },
  {
   "cell_type": "code",
   "execution_count": 53,
   "id": "f025b425",
   "metadata": {},
   "outputs": [
    {
     "data": {
      "text/plain": [
       "1546565"
      ]
     },
     "execution_count": 53,
     "metadata": {},
     "output_type": "execute_result"
    }
   ],
   "source": [
    "stud1.phone_number"
   ]
  },
  {
   "cell_type": "code",
   "execution_count": null,
   "id": "51f966f3",
   "metadata": {},
   "outputs": [],
   "source": []
  }
 ],
 "metadata": {
  "kernelspec": {
   "display_name": "Python 3 (ipykernel)",
   "language": "python",
   "name": "python3"
  },
  "language_info": {
   "codemirror_mode": {
    "name": "ipython",
    "version": 3
   },
   "file_extension": ".py",
   "mimetype": "text/x-python",
   "name": "python",
   "nbconvert_exporter": "python",
   "pygments_lexer": "ipython3",
   "version": "3.9.13"
  }
 },
 "nbformat": 4,
 "nbformat_minor": 5
}
