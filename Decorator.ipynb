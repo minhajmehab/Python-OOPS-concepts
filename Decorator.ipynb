{
 "cells": [
  {
   "cell_type": "code",
   "execution_count": 1,
   "id": "bbfa90ec",
   "metadata": {},
   "outputs": [],
   "source": [
    "def test1():\n",
    "    print('this is the start of function')\n",
    "    print(3+3)\n",
    "    print('this is the end of function')"
   ]
  },
  {
   "cell_type": "code",
   "execution_count": 2,
   "id": "1332d2f4",
   "metadata": {},
   "outputs": [
    {
     "name": "stdout",
     "output_type": "stream",
     "text": [
      "this is the start of function\n",
      "6\n",
      "this is the end of function\n"
     ]
    }
   ],
   "source": [
    "test1()"
   ]
  },
  {
   "cell_type": "code",
   "execution_count": 3,
   "id": "95ba025c",
   "metadata": {},
   "outputs": [],
   "source": [
    "def test2():\n",
    "    print('this the start of function')\n",
    "    print(3-4)\n",
    "    print('this is the end of function')"
   ]
  },
  {
   "cell_type": "code",
   "execution_count": 4,
   "id": "912bd791",
   "metadata": {},
   "outputs": [
    {
     "name": "stdout",
     "output_type": "stream",
     "text": [
      "this the start of function\n",
      "-1\n",
      "this is the end of function\n"
     ]
    }
   ],
   "source": [
    "test2()"
   ]
  },
  {
   "cell_type": "markdown",
   "id": "5f32caa5",
   "metadata": {},
   "source": [
    "## DECORATOR"
   ]
  },
  {
   "cell_type": "code",
   "execution_count": 5,
   "id": "f396968f",
   "metadata": {},
   "outputs": [],
   "source": [
    "#IN THE ABOVE WRITTEN CODE print('this the start of function') AND print('this is the end of function') ARE REPEATING IN ALL THE FUNCTIONS\n",
    "#SO WE USE DECORATOR TO AVOID THE REPEATEDNESS OF print('this the start of function') AND print('this is the end of function')"
   ]
  },
  {
   "cell_type": "code",
   "execution_count": 1,
   "id": "da18d727",
   "metadata": {},
   "outputs": [],
   "source": [
    "def deco(fun):\n",
    "    def inner_deco():\n",
    "        print('this is the start of function')\n",
    "        fun()\n",
    "        print('this is the end of fuction')\n",
    "    return inner_deco"
   ]
  },
  {
   "cell_type": "code",
   "execution_count": 2,
   "id": "99478cca",
   "metadata": {},
   "outputs": [],
   "source": [
    "import decorator\n"
   ]
  },
  {
   "cell_type": "code",
   "execution_count": 3,
   "id": "b043f812",
   "metadata": {},
   "outputs": [],
   "source": [
    "@deco\n",
    "def test1():\n",
    "    print(3+3)\n",
    "    "
   ]
  },
  {
   "cell_type": "code",
   "execution_count": 4,
   "id": "e761072d",
   "metadata": {},
   "outputs": [
    {
     "name": "stdout",
     "output_type": "stream",
     "text": [
      "this is the start of function\n",
      "6\n",
      "this is the end of fuction\n"
     ]
    }
   ],
   "source": [
    "test1()"
   ]
  },
  {
   "cell_type": "code",
   "execution_count": 7,
   "id": "7b7b75aa",
   "metadata": {},
   "outputs": [],
   "source": [
    "@deco\n",
    "def test2():\n",
    "    print(3-4)"
   ]
  },
  {
   "cell_type": "code",
   "execution_count": 8,
   "id": "1dcdca51",
   "metadata": {},
   "outputs": [
    {
     "name": "stdout",
     "output_type": "stream",
     "text": [
      "this is the start of function\n",
      "-1\n",
      "this is the end of fuction\n"
     ]
    }
   ],
   "source": [
    "test2()"
   ]
  },
  {
   "cell_type": "code",
   "execution_count": null,
   "id": "7acf0010",
   "metadata": {},
   "outputs": [],
   "source": []
  }
 ],
 "metadata": {
  "kernelspec": {
   "display_name": "Python 3 (ipykernel)",
   "language": "python",
   "name": "python3"
  },
  "language_info": {
   "codemirror_mode": {
    "name": "ipython",
    "version": 3
   },
   "file_extension": ".py",
   "mimetype": "text/x-python",
   "name": "python",
   "nbconvert_exporter": "python",
   "pygments_lexer": "ipython3",
   "version": "3.9.13"
  }
 },
 "nbformat": 4,
 "nbformat_minor": 5
}
