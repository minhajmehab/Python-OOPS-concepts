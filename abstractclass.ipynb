{
 "cells": [
  {
   "cell_type": "code",
   "execution_count": 1,
   "id": "26ebd076",
   "metadata": {},
   "outputs": [],
   "source": [
    "import abc\n",
    "#blue print of class\n",
    "class course:\n",
    "    @abc.abstractmethod\n",
    "    def student_details(self):\n",
    "        pass\n",
    "    @abc.abstractmethod\n",
    "    def student_marks(self):\n",
    "        pass\n",
    "    @abc.abstractmethod\n",
    "    def student_assignment(self):\n",
    "        pass\n",
    "    \n",
    "        \n",
    "    "
   ]
  },
  {
   "cell_type": "code",
   "execution_count": 3,
   "id": "41dd5658",
   "metadata": {},
   "outputs": [],
   "source": [
    "#giving our own definitions to the class\n",
    "class data_science(course):\n",
    "    def student_details(self):\n",
    "        return print(\"this will return student details of data science\")\n",
    "    def student_marks(self):\n",
    "        return print(\"this will return student marks of data science\")\n",
    "    def student_assignment(self):\n",
    "        return print(\"this will return student assignment of data science\")"
   ]
  },
  {
   "cell_type": "code",
   "execution_count": 4,
   "id": "80e94770",
   "metadata": {},
   "outputs": [],
   "source": [
    "class web_dev(course):\n",
    "    def student_details(self):\n",
    "        return print(\"this will return student details of web dev\")\n",
    "    def student_marks(self):\n",
    "        return print(\"this will return student marks of web dev\")\n",
    "    def student_assignment(self):\n",
    "        return print(\"this will return student assignment of web dev\")"
   ]
  },
  {
   "cell_type": "code",
   "execution_count": 5,
   "id": "64dcd1b7",
   "metadata": {},
   "outputs": [],
   "source": [
    "#object for data science\n",
    "obj_data_science=data_science()"
   ]
  },
  {
   "cell_type": "code",
   "execution_count": 6,
   "id": "9934a7cf",
   "metadata": {},
   "outputs": [
    {
     "name": "stdout",
     "output_type": "stream",
     "text": [
      "this will return student assignment of data science\n"
     ]
    }
   ],
   "source": [
    "obj_data_science.student_assignment()"
   ]
  },
  {
   "cell_type": "code",
   "execution_count": 7,
   "id": "55d72b56",
   "metadata": {},
   "outputs": [
    {
     "name": "stdout",
     "output_type": "stream",
     "text": [
      "this will return student details of data science\n"
     ]
    }
   ],
   "source": [
    "obj_data_science.student_details()"
   ]
  },
  {
   "cell_type": "code",
   "execution_count": 8,
   "id": "83bc9f91",
   "metadata": {},
   "outputs": [
    {
     "name": "stdout",
     "output_type": "stream",
     "text": [
      "this will return student marks of data science\n"
     ]
    }
   ],
   "source": [
    "obj_data_science.student_marks()"
   ]
  },
  {
   "cell_type": "code",
   "execution_count": 9,
   "id": "7ef1fddf",
   "metadata": {},
   "outputs": [],
   "source": [
    "#object for web dev\n",
    "obj_web_dev=web_dev()"
   ]
  },
  {
   "cell_type": "code",
   "execution_count": 10,
   "id": "a06d1d1d",
   "metadata": {},
   "outputs": [
    {
     "name": "stdout",
     "output_type": "stream",
     "text": [
      "this will return student details of web dev\n"
     ]
    }
   ],
   "source": [
    "obj_web_dev.student_details()"
   ]
  },
  {
   "cell_type": "code",
   "execution_count": 11,
   "id": "1130f42e",
   "metadata": {},
   "outputs": [
    {
     "name": "stdout",
     "output_type": "stream",
     "text": [
      "this will return student marks of web dev\n"
     ]
    }
   ],
   "source": [
    "obj_web_dev.student_marks()"
   ]
  },
  {
   "cell_type": "code",
   "execution_count": 12,
   "id": "53feef0b",
   "metadata": {},
   "outputs": [
    {
     "name": "stdout",
     "output_type": "stream",
     "text": [
      "this will return student assignment of web dev\n"
     ]
    }
   ],
   "source": [
    "obj_web_dev.student_assignment()"
   ]
  },
  {
   "cell_type": "code",
   "execution_count": null,
   "id": "84438d9a",
   "metadata": {},
   "outputs": [],
   "source": []
  }
 ],
 "metadata": {
  "kernelspec": {
   "display_name": "Python 3 (ipykernel)",
   "language": "python",
   "name": "python3"
  },
  "language_info": {
   "codemirror_mode": {
    "name": "ipython",
    "version": 3
   },
   "file_extension": ".py",
   "mimetype": "text/x-python",
   "name": "python",
   "nbconvert_exporter": "python",
   "pygments_lexer": "ipython3",
   "version": "3.9.13"
  }
 },
 "nbformat": 4,
 "nbformat_minor": 5
}
