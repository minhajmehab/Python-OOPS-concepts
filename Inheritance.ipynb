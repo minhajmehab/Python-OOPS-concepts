{
 "cells": [
  {
   "cell_type": "markdown",
   "id": "93889662",
   "metadata": {},
   "source": [
    "## INHERITANCE"
   ]
  },
  {
   "cell_type": "code",
   "execution_count": 6,
   "id": "063ab3c5",
   "metadata": {},
   "outputs": [],
   "source": [
    "class parent:\n",
    "    def test_parent(self):\n",
    "        print(\"this is my parent class\")"
   ]
  },
  {
   "cell_type": "code",
   "execution_count": 7,
   "id": "ab93b025",
   "metadata": {},
   "outputs": [],
   "source": [
    "class child(parent):\n",
    "    pass"
   ]
  },
  {
   "cell_type": "code",
   "execution_count": 8,
   "id": "062d5521",
   "metadata": {},
   "outputs": [],
   "source": [
    "child_obj=child()"
   ]
  },
  {
   "cell_type": "code",
   "execution_count": 9,
   "id": "d093f00b",
   "metadata": {},
   "outputs": [
    {
     "name": "stdout",
     "output_type": "stream",
     "text": [
      "this is my parent class\n"
     ]
    }
   ],
   "source": [
    "child_obj.test_parent()"
   ]
  },
  {
   "cell_type": "markdown",
   "id": "38e3bb29",
   "metadata": {},
   "source": [
    "### MULTILEVEL INHERITANCE"
   ]
  },
  {
   "cell_type": "code",
   "execution_count": 15,
   "id": "d5f34e14",
   "metadata": {},
   "outputs": [],
   "source": [
    "class class1:\n",
    "    def test_class1(self):\n",
    "        print('this is my class1')"
   ]
  },
  {
   "cell_type": "code",
   "execution_count": 16,
   "id": "a10b5aaa",
   "metadata": {},
   "outputs": [],
   "source": [
    "#class2 inheriting class1\n",
    "class class2(class1):\n",
    "    def test_class2(self):\n",
    "        print(\"this is my class2\")"
   ]
  },
  {
   "cell_type": "code",
   "execution_count": 17,
   "id": "aec36f68",
   "metadata": {},
   "outputs": [],
   "source": [
    "#class3 inheriting class2\n",
    "class class3(class2):\n",
    "    def test_class3(self):\n",
    "        print('this is my class3')"
   ]
  },
  {
   "cell_type": "code",
   "execution_count": 18,
   "id": "dc23aa1a",
   "metadata": {},
   "outputs": [],
   "source": [
    "#creating object for class3\n",
    "obj_class3=class3()"
   ]
  },
  {
   "cell_type": "code",
   "execution_count": 28,
   "id": "be1dc775",
   "metadata": {},
   "outputs": [
    {
     "name": "stdout",
     "output_type": "stream",
     "text": [
      "this is class 1\n"
     ]
    }
   ],
   "source": [
    "#accessing class1 using object of class3\n",
    "obj_class3.test_class1()"
   ]
  },
  {
   "cell_type": "code",
   "execution_count": null,
   "id": "94b477c0",
   "metadata": {},
   "outputs": [],
   "source": [
    "#accessing class2 using object of class3\n",
    "obj_class3.test_class2()"
   ]
  },
  {
   "cell_type": "code",
   "execution_count": 29,
   "id": "df6ca035",
   "metadata": {},
   "outputs": [
    {
     "name": "stdout",
     "output_type": "stream",
     "text": [
      "this is class 3\n"
     ]
    }
   ],
   "source": [
    "#accessing class3 using object of class3\n",
    "obj_class3.test_class3()"
   ]
  },
  {
   "cell_type": "markdown",
   "id": "6144f95b",
   "metadata": {},
   "source": [
    "### MULTIPLE INHERITANCE"
   ]
  },
  {
   "cell_type": "code",
   "execution_count": 24,
   "id": "826345e5",
   "metadata": {},
   "outputs": [],
   "source": [
    "class class1:\n",
    "    def test_class1(self):\n",
    "        print(\"this is class1\")"
   ]
  },
  {
   "cell_type": "code",
   "execution_count": 25,
   "id": "f39f5e36",
   "metadata": {},
   "outputs": [],
   "source": [
    "class class2:\n",
    "    def test_class2(self):\n",
    "        print('this is class2')"
   ]
  },
  {
   "cell_type": "code",
   "execution_count": 26,
   "id": "c23c87a9",
   "metadata": {},
   "outputs": [],
   "source": [
    "#class3 inheriting class1 and class2\n",
    "class class3(class1,class2):\n",
    "    def test_class3(self):\n",
    "        print('this is class3')"
   ]
  },
  {
   "cell_type": "code",
   "execution_count": 27,
   "id": "40b75711",
   "metadata": {},
   "outputs": [],
   "source": [
    "#creating object for class3\n",
    "obj_class3=class3()"
   ]
  },
  {
   "cell_type": "code",
   "execution_count": 30,
   "id": "cd201a5d",
   "metadata": {},
   "outputs": [
    {
     "name": "stdout",
     "output_type": "stream",
     "text": [
      "this is class 1\n"
     ]
    }
   ],
   "source": [
    "#accessing class1 using object of class3\n",
    "obj_class3.test_class1()"
   ]
  },
  {
   "cell_type": "code",
   "execution_count": 31,
   "id": "703a8845",
   "metadata": {},
   "outputs": [
    {
     "name": "stdout",
     "output_type": "stream",
     "text": [
      "this is class 2\n"
     ]
    }
   ],
   "source": [
    "#accessing class2 using object of class3\n",
    "obj_class3.test_class2()"
   ]
  },
  {
   "cell_type": "code",
   "execution_count": 32,
   "id": "82d9c3d9",
   "metadata": {},
   "outputs": [
    {
     "name": "stdout",
     "output_type": "stream",
     "text": [
      "this is class 3\n"
     ]
    }
   ],
   "source": [
    "#accessing class3 using object of class3\n",
    "obj_class3.test_class3()"
   ]
  },
  {
   "cell_type": "code",
   "execution_count": null,
   "id": "5082e44d",
   "metadata": {},
   "outputs": [],
   "source": []
  }
 ],
 "metadata": {
  "kernelspec": {
   "display_name": "Python 3 (ipykernel)",
   "language": "python",
   "name": "python3"
  },
  "language_info": {
   "codemirror_mode": {
    "name": "ipython",
    "version": 3
   },
   "file_extension": ".py",
   "mimetype": "text/x-python",
   "name": "python",
   "nbconvert_exporter": "python",
   "pygments_lexer": "ipython3",
   "version": "3.9.13"
  }
 },
 "nbformat": 4,
 "nbformat_minor": 5
}
