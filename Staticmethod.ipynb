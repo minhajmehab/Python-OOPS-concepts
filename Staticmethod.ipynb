{
 "cells": [
  {
   "cell_type": "code",
   "execution_count": 1,
   "id": "ae484af6",
   "metadata": {},
   "outputs": [],
   "source": [
    "import datetime\n",
    "now=datetime.datetime.now()"
   ]
  },
  {
   "cell_type": "code",
   "execution_count": 39,
   "id": "34ef657d",
   "metadata": {},
   "outputs": [],
   "source": [
    "class Car:\n",
    "    __base_price=500000\n",
    "    def __init__(self,windows,doors,speed):\n",
    "        self.windows=windows\n",
    "        self.doors=doors\n",
    "        self.speed=speed\n",
    "    def what_the_price(self):\n",
    "        print('the base price is {}'.format(self.__base_price))\n",
    "    @classmethod\n",
    "    def change_base_price(cls,inflation_rate):\n",
    "        cls.__base_price=cls.__base_price+cls.__base_price*inflation_rate\n",
    "    @staticmethod\n",
    "    def check_year():\n",
    "        if now.year==2023:\n",
    "            return True\n",
    "        else:\n",
    "            return False"
   ]
  },
  {
   "cell_type": "code",
   "execution_count": 40,
   "id": "55e220f8",
   "metadata": {},
   "outputs": [
    {
     "data": {
      "text/plain": [
       "True"
      ]
     },
     "execution_count": 40,
     "metadata": {},
     "output_type": "execute_result"
    }
   ],
   "source": [
    "Car.check_year()"
   ]
  },
  {
   "cell_type": "code",
   "execution_count": 41,
   "id": "f6f655b2",
   "metadata": {},
   "outputs": [],
   "source": [
    "Car1=Car(3,7,3000)"
   ]
  },
  {
   "cell_type": "code",
   "execution_count": 42,
   "id": "443da1ba",
   "metadata": {},
   "outputs": [
    {
     "name": "stdout",
     "output_type": "stream",
     "text": [
      "the base price is 500000\n"
     ]
    }
   ],
   "source": [
    "Car1.what_the_price()"
   ]
  }
 ],
 "metadata": {
  "kernelspec": {
   "display_name": "Python 3 (ipykernel)",
   "language": "python",
   "name": "python3"
  },
  "language_info": {
   "codemirror_mode": {
    "name": "ipython",
    "version": 3
   },
   "file_extension": ".py",
   "mimetype": "text/x-python",
   "name": "python",
   "nbconvert_exporter": "python",
   "pygments_lexer": "ipython3",
   "version": "3.9.13"
  }
 },
 "nbformat": 4,
 "nbformat_minor": 5
}
