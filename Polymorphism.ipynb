{
 "cells": [
  {
   "cell_type": "markdown",
   "id": "90c1b4d1",
   "metadata": {},
   "source": [
    "## Polymorphism"
   ]
  },
  {
   "cell_type": "code",
   "execution_count": null,
   "id": "a82f5c1c",
   "metadata": {},
   "outputs": [],
   "source": [
    "def test(a,b):\n",
    "    return a+b"
   ]
  },
  {
   "cell_type": "code",
   "execution_count": 2,
   "id": "03be008f",
   "metadata": {},
   "outputs": [
    {
     "data": {
      "text/plain": [
       "4"
      ]
     },
     "execution_count": 2,
     "metadata": {},
     "output_type": "execute_result"
    }
   ],
   "source": [
    "test(1,3)"
   ]
  },
  {
   "cell_type": "code",
   "execution_count": 4,
   "id": "7877fe03",
   "metadata": {},
   "outputs": [
    {
     "data": {
      "text/plain": [
       "'helloworld'"
      ]
     },
     "execution_count": 4,
     "metadata": {},
     "output_type": "execute_result"
    }
   ],
   "source": [
    "test('hello','world')"
   ]
  },
  {
   "cell_type": "code",
   "execution_count": 5,
   "id": "b68fd554",
   "metadata": {},
   "outputs": [],
   "source": [
    "## polymorphism in case of class and object"
   ]
  },
  {
   "cell_type": "code",
   "execution_count": 23,
   "id": "c27302a5",
   "metadata": {},
   "outputs": [],
   "source": [
    "class data_science:\n",
    "    def syllabus(self):\n",
    "        print(\"this is my method for data science syllabus\")"
   ]
  },
  {
   "cell_type": "code",
   "execution_count": 29,
   "id": "98574c4e",
   "metadata": {},
   "outputs": [],
   "source": [
    "class web_dev:\n",
    "    def syllabus(self):\n",
    "        print(\"this is my method for web dev syllabus\")"
   ]
  },
  {
   "cell_type": "code",
   "execution_count": 30,
   "id": "7e25fe28",
   "metadata": {},
   "outputs": [],
   "source": [
    "obj_data_science=data_science()\n",
    "obj_web_dev=web_dev()"
   ]
  },
  {
   "cell_type": "code",
   "execution_count": 35,
   "id": "15584ba9",
   "metadata": {},
   "outputs": [],
   "source": [
    "def course_method(x):\n",
    "    for i in x:\n",
    "        i.syllabus()"
   ]
  },
  {
   "cell_type": "code",
   "execution_count": 36,
   "id": "e7c19abf",
   "metadata": {},
   "outputs": [],
   "source": [
    "x=[obj_data_science,obj_web_dev]"
   ]
  },
  {
   "cell_type": "code",
   "execution_count": 37,
   "id": "1251ca89",
   "metadata": {},
   "outputs": [
    {
     "name": "stdout",
     "output_type": "stream",
     "text": [
      "this is my method for data science syllabus\n",
      "this is my method for web dev syllabus\n"
     ]
    }
   ],
   "source": [
    "course_method(x)"
   ]
  },
  {
   "cell_type": "code",
   "execution_count": null,
   "id": "f99535c9",
   "metadata": {},
   "outputs": [],
   "source": []
  },
  {
   "cell_type": "code",
   "execution_count": null,
   "id": "fa359021",
   "metadata": {},
   "outputs": [],
   "source": []
  }
 ],
 "metadata": {
  "kernelspec": {
   "display_name": "Python 3 (ipykernel)",
   "language": "python",
   "name": "python3"
  },
  "language_info": {
   "codemirror_mode": {
    "name": "ipython",
    "version": 3
   },
   "file_extension": ".py",
   "mimetype": "text/x-python",
   "name": "python",
   "nbconvert_exporter": "python",
   "pygments_lexer": "ipython3",
   "version": "3.9.13"
  }
 },
 "nbformat": 4,
 "nbformat_minor": 5
}
